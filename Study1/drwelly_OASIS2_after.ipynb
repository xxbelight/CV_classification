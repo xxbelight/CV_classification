{
 "cells": [
  {
   "cell_type": "code",
   "execution_count": 1,
   "id": "156d21e9-f1e1-442e-993d-d2d254185728",
   "metadata": {},
   "outputs": [
    {
     "name": "stderr",
     "output_type": "stream",
     "text": [
      "/tmp/ipykernel_2384393/1002562574.py:1: DeprecationWarning: \n",
      "Pyarrow will become a required dependency of pandas in the next major release of pandas (pandas 3.0),\n",
      "(to allow more performant data types, such as the Arrow string type, and better interoperability with other libraries)\n",
      "but was not found to be installed on your system.\n",
      "If this would cause problems for you,\n",
      "please provide us feedback at https://github.com/pandas-dev/pandas/issues/54466\n",
      "        \n",
      "  import pandas as pd\n"
     ]
    }
   ],
   "source": [
    "import pandas as pd\n",
    "import pickle\n",
    "import argparse\n",
    "import os\n",
    "import glob\n",
    "import pydicom\n",
    "import sys"
   ]
  },
  {
   "cell_type": "code",
   "execution_count": 2,
   "id": "242736bf-abc0-42bd-94a2-4581c604121e",
   "metadata": {},
   "outputs": [],
   "source": [
    "def load_pickle_file(filepath):\n",
    "    with open(filepath, 'rb') as file:\n",
    "        data = pickle.load(file)\n",
    "    return data\n",
    "# 파일열어보기 , PICKLE로 되어있는것"
   ]
  },
  {
   "cell_type": "code",
   "execution_count": null,
   "id": "41549c34-372d-4175-b49d-1722c2fa6eac",
   "metadata": {},
   "outputs": [],
   "source": [
    "import os\n",
    "import pandas as pd\n",
    "import pickle\n",
    "\n",
    "def load_pickle_file(file_path):\n",
    "    with open(file_path, 'rb') as file:\n",
    "        return pickle.load(file)\n",
    "        \n",
    "def find_volumes_files(root_path):\n",
    "    volumes_files = []\n",
    "    for root, dirs, files in os.walk(root_path):\n",
    "        for file in files:\n",
    "            if file == 'volumes.pickle':\n",
    "                volumes_files.append(os.path.join(root, file))\n",
    "    return volumes_files\n",
    "\n",
    "def extract_subject_data(volumes_file_path):\n",
    "    subject_name = os.path.dirname(volumes_file_path).split(os.sep)[-3]\n",
    "    volumes_data = load_pickle_file(volumes_file_path)\n",
    "    volumes_data['subject'] = subject_name\n",
    "    return volumes_data\n",
    "\n",
    "def compile_data(volumes_files):\n",
    "    data = []\n",
    "    for volumes_file in volumes_files:\n",
    "        subject_data = extract_subject_data(volumes_file)\n",
    "        data.append(subject_data)\n",
    "    df = pd.DataFrame(data)\n",
    "    # You might need to adjust the DataFrame to ensure it has the structure you want\n",
    "    return df\n",
    "\n",
    "root_path = '/home/limseoyoung/drwelly1/SeoyoungLim/drwelly-debug/drwelly_oasis2_before_swift'\n",
    "volumes_files = find_volumes_files(root_path)\n",
    "df = compile_data(volumes_files)"
   ]
  }
 ],
 "metadata": {
  "kernelspec": {
   "display_name": "Python 3 (ipykernel)",
   "language": "python",
   "name": "python3"
  },
  "language_info": {
   "codemirror_mode": {
    "name": "ipython",
    "version": 3
   },
   "file_extension": ".py",
   "mimetype": "text/x-python",
   "name": "python",
   "nbconvert_exporter": "python",
   "pygments_lexer": "ipython3",
   "version": "3.11.6"
  }
 },
 "nbformat": 4,
 "nbformat_minor": 5
}
