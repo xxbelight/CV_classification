{
 "cells": [
  {
   "cell_type": "code",
   "execution_count": 1,
   "id": "1bf14bda-ca41-48c6-b3c8-5e060a60562d",
   "metadata": {},
   "outputs": [
    {
     "data": {
      "text/plain": [
       "0.9385"
      ]
     },
     "execution_count": 1,
     "metadata": {},
     "output_type": "execute_result"
    }
   ],
   "source": [
    "(0.990 + 0.995 + 0.988 + 0.781 ) / 4"
   ]
  },
  {
   "cell_type": "code",
   "execution_count": 2,
   "id": "114b02cc-4194-4851-9680-71ddd794ce17",
   "metadata": {},
   "outputs": [
    {
     "data": {
      "text/plain": [
       "0.94275"
      ]
     },
     "execution_count": 2,
     "metadata": {},
     "output_type": "execute_result"
    }
   ],
   "source": [
    "(0.977 + 0.964 + 0.952 + 0.878) / 4"
   ]
  },
  {
   "cell_type": "code",
   "execution_count": 3,
   "id": "ca664522-ec27-4d6c-90d1-4b4de08b85f7",
   "metadata": {},
   "outputs": [
    {
     "data": {
      "text/plain": [
       "0.9542499999999999"
      ]
     },
     "execution_count": 3,
     "metadata": {},
     "output_type": "execute_result"
    }
   ],
   "source": [
    "(0.994  + 0.999 + 0.993 + 0.831) / 4"
   ]
  },
  {
   "cell_type": "code",
   "execution_count": 4,
   "id": "839d370f-e2b2-44df-8cf4-114b71371fef",
   "metadata": {},
   "outputs": [
    {
     "data": {
      "text/plain": [
       "0.9152500000000001"
      ]
     },
     "execution_count": 4,
     "metadata": {},
     "output_type": "execute_result"
    }
   ],
   "source": [
    "(0.974+ 0.985 +0.946 + 0.756  ) / 4"
   ]
  },
  {
   "cell_type": "code",
   "execution_count": 5,
   "id": "ba748bd4-1f11-4c85-8e4c-10c897e2bf2c",
   "metadata": {},
   "outputs": [
    {
     "data": {
      "text/plain": [
       "0.5626666666666665"
      ]
     },
     "execution_count": 5,
     "metadata": {},
     "output_type": "execute_result"
    }
   ],
   "source": [
    "(0.585 + 0.481 + 0.622) /3"
   ]
  },
  {
   "cell_type": "code",
   "execution_count": 6,
   "id": "ef1208ec-18b2-4538-a094-90d7647009ef",
   "metadata": {},
   "outputs": [
    {
     "data": {
      "text/plain": [
       "0.5943333333333333"
      ]
     },
     "execution_count": 6,
     "metadata": {},
     "output_type": "execute_result"
    }
   ],
   "source": [
    "(0.563 + 0.654 + 0.566) / 3"
   ]
  },
  {
   "cell_type": "code",
   "execution_count": null,
   "id": "cc2bb664-01da-4f98-ace8-089365dc49ae",
   "metadata": {},
   "outputs": [],
   "source": []
  }
 ],
 "metadata": {
  "kernelspec": {
   "display_name": "Python 3 (ipykernel)",
   "language": "python",
   "name": "python3"
  },
  "language_info": {
   "codemirror_mode": {
    "name": "ipython",
    "version": 3
   },
   "file_extension": ".py",
   "mimetype": "text/x-python",
   "name": "python",
   "nbconvert_exporter": "python",
   "pygments_lexer": "ipython3",
   "version": "3.11.6"
  }
 },
 "nbformat": 4,
 "nbformat_minor": 5
}
